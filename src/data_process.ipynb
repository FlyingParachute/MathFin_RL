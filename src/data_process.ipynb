{
 "cells": [
  {
   "cell_type": "code",
   "execution_count": 120,
   "metadata": {},
   "outputs": [],
   "source": [
    "import yfinance as yf\n",
    "import pandas as pd\n",
    "import matplotlib.pyplot as plt\n",
    "import warnings\n",
    "warnings.filterwarnings(\"ignore\")"
   ]
  },
  {
   "cell_type": "markdown",
   "metadata": {},
   "source": [
    "**Download T-Note from Yahoo Finance**"
   ]
  },
  {
   "cell_type": "code",
   "execution_count": 121,
   "metadata": {},
   "outputs": [],
   "source": [
    "start_date = \"1970-01-01\"\n",
    "end_date = \"2024-12-31\"\n",
    "\n",
    "#下载标普500数据\n",
    "ticker_sp500 = \"^GSPC\"\n",
    "#下载T-Note 10Y数据\n",
    "ticker_TNOTE = \"^TNX\"\n"
   ]
  },
  {
   "cell_type": "code",
   "execution_count": 122,
   "metadata": {},
   "outputs": [
    {
     "name": "stderr",
     "output_type": "stream",
     "text": [
      "[*********************100%***********************]  1 of 1 completed\n",
      "[*********************100%***********************]  1 of 1 completed\n"
     ]
    }
   ],
   "source": [
    "SP500_DF = yf.download(ticker_sp500, start=start_date, end=end_date)\n",
    "TNOTE_DF = yf.download(ticker_TNOTE, start=start_date, end=end_date)\n"
   ]
  },
  {
   "cell_type": "code",
   "execution_count": 123,
   "metadata": {},
   "outputs": [],
   "source": [
    "SP500_DF.to_csv(\"../data/raw/SP500_1970.csv\")\n",
    "TNOTE_DF.to_csv(\"../data/raw/TNOTE.csv\")"
   ]
  },
  {
   "cell_type": "markdown",
   "metadata": {},
   "source": [
    "**Process SP500 and AGG data**"
   ]
  },
  {
   "cell_type": "code",
   "execution_count": 124,
   "metadata": {},
   "outputs": [],
   "source": [
    "sp500_daily = pd.read_excel(\"../data/raw/SP500.xlsx\", sheet_name=\"Daily\")\n",
    "sp500_daily.columns = sp500_daily.iloc[4]\n",
    "sp500_daily = sp500_daily.iloc[5:]\n",
    "sp500_daily.columns.name = None\n",
    "sp500_daily.reset_index(drop=True, inplace=True)\n",
    "sp500_daily.set_index(\"Dates\", inplace=True)\n",
    "sp500_daily = sp500_daily.dropna(subset=['PX_LAST'])\n",
    "sp500_daily['SPXret_1d'] = sp500_daily['PX_LAST'].pct_change()\n",
    "\n",
    "sp500_quarterly = pd.read_excel(\"../data/raw/SP500.xlsx\", sheet_name=\"Quarterly\")\n",
    "sp500_quarterly.columns = sp500_quarterly.iloc[4]\n",
    "sp500_quarterly = sp500_quarterly.iloc[5:]\n",
    "sp500_quarterly.columns.name = None\n",
    "sp500_quarterly.reset_index(drop=True, inplace=True)\n",
    "sp500_quarterly.set_index(\"Dates\", inplace=True)\n",
    "sp500_quarterly = sp500_quarterly.dropna(subset=['PX_LAST'])\n",
    "sp500_quarterly['SPXret_1q'] = sp500_quarterly['PX_LAST'].pct_change()\n",
    "\n",
    "sp500_semi_annual = pd.read_excel(\"../data/raw/SP500.xlsx\", sheet_name=\"Semi Annually\")\n",
    "sp500_semi_annual.columns = sp500_semi_annual.iloc[4]\n",
    "sp500_semi_annual = sp500_semi_annual.iloc[5:]\n",
    "sp500_semi_annual.columns.name = None\n",
    "sp500_semi_annual.reset_index(drop=True, inplace=True)\n",
    "sp500_semi_annual.set_index(\"Dates\", inplace=True)\n",
    "sp500_semi_annual = sp500_semi_annual.dropna(subset=['PX_LAST'])\n",
    "sp500_semi_annual['SPXret_s'] = sp500_semi_annual['PX_LAST'].pct_change()\n",
    "\n",
    "sp500_annual = pd.read_excel(\"../data/raw/SP500.xlsx\", sheet_name=\"Yearly\")\n",
    "sp500_annual.columns = sp500_annual.iloc[4]\n",
    "sp500_annual = sp500_annual.iloc[5:]\n",
    "sp500_annual.columns.name = None\n",
    "sp500_annual.reset_index(drop=True, inplace=True)\n",
    "sp500_annual.set_index(\"Dates\", inplace=True)\n",
    "sp500_annual = sp500_annual.dropna(subset=['PX_LAST'])\n",
    "sp500_annual['SPXret_a'] = sp500_annual['PX_LAST'].pct_change()"
   ]
  },
  {
   "cell_type": "code",
   "execution_count": 125,
   "metadata": {},
   "outputs": [],
   "source": [
    "AGG_quarterly = pd.read_excel(\"../data/raw/AGG_new.xlsx\", sheet_name=\"Quarterly\")\n",
    "AGG_quarterly.columns = AGG_quarterly.iloc[4]\n",
    "AGG_quarterly = AGG_quarterly.iloc[5:]\n",
    "AGG_quarterly.columns.name = None\n",
    "AGG_quarterly.reset_index(drop=True, inplace=True)\n",
    "AGG_quarterly.set_index(\"Dates\", inplace=True)\n",
    "AGG_quarterly = AGG_quarterly.dropna(subset=['PX_LAST'])\n",
    "AGG_quarterly['AGGret_1q'] = AGG_quarterly['PX_LAST'].pct_change()\n",
    "\n",
    "AGG_semi_annual = pd.read_excel(\"../data/raw/AGG_new.xlsx\", sheet_name=\"Semi Annually\")\n",
    "AGG_semi_annual.columns = AGG_semi_annual.iloc[4]\n",
    "AGG_semi_annual = AGG_semi_annual.iloc[5:]\n",
    "AGG_semi_annual.columns.name = None\n",
    "AGG_semi_annual.reset_index(drop=True, inplace=True)\n",
    "AGG_semi_annual.set_index(\"Dates\", inplace=True)\n",
    "AGG_semi_annual = AGG_semi_annual.dropna(subset=['PX_LAST'])\n",
    "AGG_semi_annual['AGGret_s'] = AGG_semi_annual['PX_LAST'].pct_change()\n",
    "\n",
    "AGG_annual = pd.read_excel(\"../data/raw/AGG_new.xlsx\", sheet_name=\"Yearly\")\n",
    "AGG_annual.columns = AGG_annual.iloc[4]\n",
    "AGG_annual = AGG_annual.iloc[5:]\n",
    "AGG_annual.columns.name = None\n",
    "AGG_annual.reset_index(drop=True, inplace=True)\n",
    "AGG_annual.set_index(\"Dates\", inplace=True)\n",
    "AGG_annual = AGG_annual.dropna(subset=['PX_LAST'])\n",
    "AGG_annual['AGGret_a'] = AGG_annual['PX_LAST'].pct_change()"
   ]
  },
  {
   "cell_type": "markdown",
   "metadata": {},
   "source": [
    "**Sampling from T-Note**"
   ]
  },
  {
   "cell_type": "code",
   "execution_count": 126,
   "metadata": {},
   "outputs": [],
   "source": [
    "TNOTE_DF.columns = TNOTE_DF.columns.droplevel(1)"
   ]
  },
  {
   "cell_type": "code",
   "execution_count": 127,
   "metadata": {},
   "outputs": [],
   "source": [
    "TNX_quarterly = TNOTE_DF.resample('Q').last()\n",
    "TNX_quarterly['TNXret_1q'] = TNX_quarterly['Close'].pct_change()\n",
    "TNX_quarterly = TNX_quarterly.dropna(subset=['TNXret_1q'])\n",
    "\n",
    "TNX_semi_annual = TNOTE_DF.resample('Q', convention='end').last()\n",
    "TNX_semi_annual = TNX_semi_annual[TNX_semi_annual.index.month.isin([6, 12])]\n",
    "TNX_semi_annual['TNXret_s'] = TNX_semi_annual['Close'].pct_change()\n",
    "TNX_semi_annual = TNX_semi_annual.dropna(subset=['TNXret_s'])\n",
    "\n",
    "TNX_annual = TNOTE_DF.resample('A').last()\n",
    "TNX_annual['TNXret_a'] = TNX_annual['Close'].pct_change()\n",
    "TNX_annual = TNX_annual.dropna(subset=['TNXret_a'])"
   ]
  },
  {
   "cell_type": "code",
   "execution_count": 128,
   "metadata": {},
   "outputs": [
    {
     "data": {
      "text/html": [
       "<div>\n",
       "<style scoped>\n",
       "    .dataframe tbody tr th:only-of-type {\n",
       "        vertical-align: middle;\n",
       "    }\n",
       "\n",
       "    .dataframe tbody tr th {\n",
       "        vertical-align: top;\n",
       "    }\n",
       "\n",
       "    .dataframe thead th {\n",
       "        text-align: right;\n",
       "    }\n",
       "</style>\n",
       "<table border=\"1\" class=\"dataframe\">\n",
       "  <thead>\n",
       "    <tr style=\"text-align: right;\">\n",
       "      <th></th>\n",
       "      <th>PX_LAST</th>\n",
       "      <th>CHG_PCT_1D</th>\n",
       "      <th>PX_CLOSE_1D</th>\n",
       "      <th>SPXret_s</th>\n",
       "    </tr>\n",
       "    <tr>\n",
       "      <th>Dates</th>\n",
       "      <th></th>\n",
       "      <th></th>\n",
       "      <th></th>\n",
       "      <th></th>\n",
       "    </tr>\n",
       "  </thead>\n",
       "  <tbody>\n",
       "    <tr>\n",
       "      <th>1976-06-30</th>\n",
       "      <td>104.28</td>\n",
       "      <td>15.62</td>\n",
       "      <td>90.19</td>\n",
       "      <td>NaN</td>\n",
       "    </tr>\n",
       "    <tr>\n",
       "      <th>1976-12-31</th>\n",
       "      <td>107.46</td>\n",
       "      <td>3.05</td>\n",
       "      <td>104.28</td>\n",
       "      <td>0.030495</td>\n",
       "    </tr>\n",
       "    <tr>\n",
       "      <th>1977-06-30</th>\n",
       "      <td>100.48</td>\n",
       "      <td>-6.5</td>\n",
       "      <td>107.46</td>\n",
       "      <td>-0.064954</td>\n",
       "    </tr>\n",
       "    <tr>\n",
       "      <th>1977-12-30</th>\n",
       "      <td>95.1</td>\n",
       "      <td>-5.35</td>\n",
       "      <td>100.48</td>\n",
       "      <td>-0.053543</td>\n",
       "    </tr>\n",
       "    <tr>\n",
       "      <th>1978-06-30</th>\n",
       "      <td>95.53</td>\n",
       "      <td>0.45</td>\n",
       "      <td>95.1</td>\n",
       "      <td>0.004522</td>\n",
       "    </tr>\n",
       "  </tbody>\n",
       "</table>\n",
       "</div>"
      ],
      "text/plain": [
       "           PX_LAST CHG_PCT_1D PX_CLOSE_1D  SPXret_s\n",
       "Dates                                              \n",
       "1976-06-30  104.28      15.62       90.19       NaN\n",
       "1976-12-31  107.46       3.05      104.28  0.030495\n",
       "1977-06-30  100.48       -6.5      107.46 -0.064954\n",
       "1977-12-30    95.1      -5.35      100.48 -0.053543\n",
       "1978-06-30   95.53       0.45        95.1  0.004522"
      ]
     },
     "execution_count": 128,
     "metadata": {},
     "output_type": "execute_result"
    }
   ],
   "source": [
    "sp500_semi_annual.head()"
   ]
  },
  {
   "cell_type": "code",
   "execution_count": 129,
   "metadata": {},
   "outputs": [
    {
     "data": {
      "text/html": [
       "<div>\n",
       "<style scoped>\n",
       "    .dataframe tbody tr th:only-of-type {\n",
       "        vertical-align: middle;\n",
       "    }\n",
       "\n",
       "    .dataframe tbody tr th {\n",
       "        vertical-align: top;\n",
       "    }\n",
       "\n",
       "    .dataframe thead th {\n",
       "        text-align: right;\n",
       "    }\n",
       "</style>\n",
       "<table border=\"1\" class=\"dataframe\">\n",
       "  <thead>\n",
       "    <tr style=\"text-align: right;\">\n",
       "      <th></th>\n",
       "      <th>PX_LAST</th>\n",
       "      <th>PX_CLOSE_1D</th>\n",
       "      <th>PX_CLOSE_1D</th>\n",
       "      <th>AGGret_s</th>\n",
       "    </tr>\n",
       "    <tr>\n",
       "      <th>Dates</th>\n",
       "      <th></th>\n",
       "      <th></th>\n",
       "      <th></th>\n",
       "      <th></th>\n",
       "    </tr>\n",
       "  </thead>\n",
       "  <tbody>\n",
       "    <tr>\n",
       "      <th>1976-06-30</th>\n",
       "      <td>105.05</td>\n",
       "      <td>105.05</td>\n",
       "      <td>105.05</td>\n",
       "      <td>NaN</td>\n",
       "    </tr>\n",
       "    <tr>\n",
       "      <th>1976-12-31</th>\n",
       "      <td>115.6</td>\n",
       "      <td>105.05</td>\n",
       "      <td>105.05</td>\n",
       "      <td>0.100428</td>\n",
       "    </tr>\n",
       "    <tr>\n",
       "      <th>1977-06-30</th>\n",
       "      <td>118.15</td>\n",
       "      <td>115.6</td>\n",
       "      <td>115.6</td>\n",
       "      <td>0.022059</td>\n",
       "    </tr>\n",
       "    <tr>\n",
       "      <th>1977-12-30</th>\n",
       "      <td>119.11</td>\n",
       "      <td>118.15</td>\n",
       "      <td>118.15</td>\n",
       "      <td>0.008125</td>\n",
       "    </tr>\n",
       "    <tr>\n",
       "      <th>1978-06-30</th>\n",
       "      <td>119.27</td>\n",
       "      <td>119.11</td>\n",
       "      <td>119.11</td>\n",
       "      <td>0.001343</td>\n",
       "    </tr>\n",
       "  </tbody>\n",
       "</table>\n",
       "</div>"
      ],
      "text/plain": [
       "           PX_LAST PX_CLOSE_1D PX_CLOSE_1D  AGGret_s\n",
       "Dates                                               \n",
       "1976-06-30  105.05      105.05      105.05       NaN\n",
       "1976-12-31   115.6      105.05      105.05  0.100428\n",
       "1977-06-30  118.15       115.6       115.6  0.022059\n",
       "1977-12-30  119.11      118.15      118.15  0.008125\n",
       "1978-06-30  119.27      119.11      119.11  0.001343"
      ]
     },
     "execution_count": 129,
     "metadata": {},
     "output_type": "execute_result"
    }
   ],
   "source": [
    "AGG_semi_annual.head()"
   ]
  },
  {
   "cell_type": "code",
   "execution_count": 130,
   "metadata": {},
   "outputs": [
    {
     "data": {
      "text/html": [
       "<div>\n",
       "<style scoped>\n",
       "    .dataframe tbody tr th:only-of-type {\n",
       "        vertical-align: middle;\n",
       "    }\n",
       "\n",
       "    .dataframe tbody tr th {\n",
       "        vertical-align: top;\n",
       "    }\n",
       "\n",
       "    .dataframe thead th {\n",
       "        text-align: right;\n",
       "    }\n",
       "</style>\n",
       "<table border=\"1\" class=\"dataframe\">\n",
       "  <thead>\n",
       "    <tr style=\"text-align: right;\">\n",
       "      <th>Price</th>\n",
       "      <th>Close</th>\n",
       "      <th>High</th>\n",
       "      <th>Low</th>\n",
       "      <th>Open</th>\n",
       "      <th>Volume</th>\n",
       "      <th>TNXret_s</th>\n",
       "    </tr>\n",
       "    <tr>\n",
       "      <th>Date</th>\n",
       "      <th></th>\n",
       "      <th></th>\n",
       "      <th></th>\n",
       "      <th></th>\n",
       "      <th></th>\n",
       "      <th></th>\n",
       "    </tr>\n",
       "  </thead>\n",
       "  <tbody>\n",
       "    <tr>\n",
       "      <th>1970-12-31</th>\n",
       "      <td>6.50</td>\n",
       "      <td>6.50</td>\n",
       "      <td>6.50</td>\n",
       "      <td>6.50</td>\n",
       "      <td>0</td>\n",
       "      <td>-0.153646</td>\n",
       "    </tr>\n",
       "    <tr>\n",
       "      <th>1971-06-30</th>\n",
       "      <td>6.70</td>\n",
       "      <td>6.70</td>\n",
       "      <td>6.70</td>\n",
       "      <td>6.70</td>\n",
       "      <td>0</td>\n",
       "      <td>0.030769</td>\n",
       "    </tr>\n",
       "    <tr>\n",
       "      <th>1971-12-31</th>\n",
       "      <td>5.89</td>\n",
       "      <td>5.89</td>\n",
       "      <td>5.89</td>\n",
       "      <td>5.89</td>\n",
       "      <td>0</td>\n",
       "      <td>-0.120896</td>\n",
       "    </tr>\n",
       "    <tr>\n",
       "      <th>1972-06-30</th>\n",
       "      <td>6.15</td>\n",
       "      <td>6.15</td>\n",
       "      <td>6.15</td>\n",
       "      <td>6.15</td>\n",
       "      <td>0</td>\n",
       "      <td>0.044143</td>\n",
       "    </tr>\n",
       "    <tr>\n",
       "      <th>1972-12-31</th>\n",
       "      <td>6.41</td>\n",
       "      <td>6.41</td>\n",
       "      <td>6.41</td>\n",
       "      <td>6.41</td>\n",
       "      <td>0</td>\n",
       "      <td>0.042276</td>\n",
       "    </tr>\n",
       "  </tbody>\n",
       "</table>\n",
       "</div>"
      ],
      "text/plain": [
       "Price       Close  High   Low  Open  Volume  TNXret_s\n",
       "Date                                                 \n",
       "1970-12-31   6.50  6.50  6.50  6.50       0 -0.153646\n",
       "1971-06-30   6.70  6.70  6.70  6.70       0  0.030769\n",
       "1971-12-31   5.89  5.89  5.89  5.89       0 -0.120896\n",
       "1972-06-30   6.15  6.15  6.15  6.15       0  0.044143\n",
       "1972-12-31   6.41  6.41  6.41  6.41       0  0.042276"
      ]
     },
     "execution_count": 130,
     "metadata": {},
     "output_type": "execute_result"
    }
   ],
   "source": [
    "TNX_semi_annual.head()"
   ]
  },
  {
   "cell_type": "markdown",
   "metadata": {},
   "source": [
    "**Synthesized data**"
   ]
  },
  {
   "cell_type": "code",
   "execution_count": 131,
   "metadata": {},
   "outputs": [],
   "source": [
    "# Portfolio 1: SPX and AGG\n",
    "\n",
    "ptf_1_quarterly = pd.merge(sp500_quarterly['SPXret_1q'], AGG_quarterly['AGGret_1q'], left_index=True, right_index=True)\n",
    "ptf_1_quarterly = ptf_1_quarterly.dropna()\n",
    "ptf_1_semi_annual = pd.merge(sp500_semi_annual['SPXret_s'], AGG_semi_annual['AGGret_s'], left_index=True, right_index=True)\n",
    "ptf_1_semi_annual = ptf_1_semi_annual.dropna()\n",
    "ptf_1_annual = pd.merge(sp500_annual['SPXret_a'], AGG_annual['AGGret_a'], left_index=True, right_index=True)\n",
    "ptf_1_annual = ptf_1_annual.dropna()\n",
    "\n",
    "with pd.ExcelWriter(\"../data/processed/Portfolio_1.xlsx\") as writer:\n",
    "    ptf_1_quarterly.to_excel(writer, sheet_name='Quarterly')\n",
    "    ptf_1_semi_annual.to_excel(writer, sheet_name='Semi Annually')\n",
    "    ptf_1_annual.to_excel(writer, sheet_name='Yearly')\n",
    "\n",
    "# Portfolio 2: SPX and TNX\n",
    "\n",
    "ptf_2_quarterly = pd.merge(sp500_quarterly['SPXret_1q'], TNX_quarterly['TNXret_1q'], left_index=True, right_index=True)\n",
    "ptf_2_quarterly = ptf_2_quarterly.dropna()\n",
    "ptf_2_semi_annual = pd.merge(sp500_semi_annual['SPXret_s'], TNX_semi_annual['TNXret_s'], left_index=True, right_index=True)\n",
    "ptf_2_semi_annual = ptf_2_semi_annual.dropna()\n",
    "ptf_2_annual = pd.merge(sp500_annual['SPXret_a'], TNX_annual['TNXret_a'], left_index=True, right_index=True)\n",
    "ptf_2_annual = ptf_2_annual.dropna()\n",
    "\n",
    "with pd.ExcelWriter(\"../data/processed/Portfolio_2.xlsx\") as writer:\n",
    "    ptf_2_quarterly.to_excel(writer, sheet_name='Quarterly')\n",
    "    ptf_2_semi_annual.to_excel(writer, sheet_name='Semi Annually')\n",
    "    ptf_2_annual.to_excel(writer, sheet_name='Yearly')"
   ]
  }
 ],
 "metadata": {
  "kernelspec": {
   "display_name": "Python 3",
   "language": "python",
   "name": "python3"
  },
  "language_info": {
   "codemirror_mode": {
    "name": "ipython",
    "version": 3
   },
   "file_extension": ".py",
   "mimetype": "text/x-python",
   "name": "python",
   "nbconvert_exporter": "python",
   "pygments_lexer": "ipython3",
   "version": "3.11.10"
  }
 },
 "nbformat": 4,
 "nbformat_minor": 2
}
